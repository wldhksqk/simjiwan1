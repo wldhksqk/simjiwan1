{
  "nbformat": 4,
  "nbformat_minor": 0,
  "metadata": {
    "colab": {
      "provenance": [],
      "authorship_tag": "ABX9TyP+ecFohSWyZxecV5AEwb8j",
      "include_colab_link": true
    },
    "kernelspec": {
      "name": "python3",
      "display_name": "Python 3"
    },
    "language_info": {
      "name": "python"
    }
  },
  "cells": [
    {
      "cell_type": "markdown",
      "metadata": {
        "id": "view-in-github",
        "colab_type": "text"
      },
      "source": [
        "<a href=\"https://colab.research.google.com/github/wldhksqk/simjiwan1/blob/main/%EC%8B%AC%EC%A7%80%EC%99%844%EA%B0%955%EA%B0%95.ipynb\" target=\"_parent\"><img src=\"https://colab.research.google.com/assets/colab-badge.svg\" alt=\"Open In Colab\"/></a>"
      ]
    },
    {
      "cell_type": "markdown",
      "source": [
        "**Pandas 모듈**\n",
        "\n",
        "Pandas는 데이터 처리 분석에 사용되는 라이브러리\n",
        "\n",
        "시리즈형식과 데이터프레임 형식이 있다.\n",
        "\n",
        "시리즈 형식은 1차원 배열의 개념, 데이터프레임은 2차원 배열의 개념"
      ],
      "metadata": {
        "id": "QpiaNvMJ09Cj"
      }
    },
    {
      "cell_type": "code",
      "execution_count": 1,
      "metadata": {
        "id": "WrnH_u1Vz3u8"
      },
      "outputs": [],
      "source": [
        "import pandas as pd"
      ]
    },
    {
      "cell_type": "code",
      "source": [
        "#시리즈 형식\n",
        "#복수의 행으로 이루어진 하나의 열 구조이다.\n",
        "a = pd.Series([9, 5, 7, 8])\n",
        "a"
      ],
      "metadata": {
        "colab": {
          "base_uri": "https://localhost:8080/"
        },
        "id": "vgFOrnTX1RnQ",
        "outputId": "9c76fec3-0882-4e4e-8829-a56bead2bc5a"
      },
      "execution_count": 8,
      "outputs": [
        {
          "output_type": "execute_result",
          "data": {
            "text/plain": [
              "0    9\n",
              "1    5\n",
              "2    7\n",
              "3    8\n",
              "dtype: int64"
            ]
          },
          "metadata": {},
          "execution_count": 8
        }
      ]
    }
  ]
}