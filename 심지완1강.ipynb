{
  "nbformat": 4,
  "nbformat_minor": 0,
  "metadata": {
    "colab": {
      "provenance": [],
      "collapsed_sections": [],
      "authorship_tag": "ABX9TyNwIIMcg/89m5EGdmBA/a6i",
      "include_colab_link": true
    },
    "kernelspec": {
      "name": "python3",
      "display_name": "Python 3"
    },
    "language_info": {
      "name": "python"
    }
  },
  "cells": [
    {
      "cell_type": "markdown",
      "metadata": {
        "id": "view-in-github",
        "colab_type": "text"
      },
      "source": [
        "<a href=\"https://colab.research.google.com/github/wldhksqk/simjiwan1/blob/main/%EC%8B%AC%EC%A7%80%EC%99%841%EA%B0%95.ipynb\" target=\"_parent\"><img src=\"https://colab.research.google.com/assets/colab-badge.svg\" alt=\"Open In Colab\"/></a>"
      ]
    },
    {
      "cell_type": "code",
      "execution_count": 10,
      "metadata": {
        "colab": {
          "base_uri": "https://localhost:8080/"
        },
        "id": "-8hPh9IrvBwH",
        "outputId": "af584e0a-0464-41df-ddd4-b28c04155bbd"
      },
      "outputs": [
        {
          "output_type": "stream",
          "name": "stdout",
          "text": [
            "hello world\n"
          ]
        }
      ],
      "source": [
        "def greet():\n",
        "    print(\"hello world\")\n",
        "greet()"
      ]
    },
    {
      "cell_type": "code",
      "source": [
        "def add(a, b):\n",
        "    a=100\n",
        "    b=1234\n",
        "    c=a+b\n",
        "    return c"
      ],
      "metadata": {
        "id": "2OC0_OnVrgsv"
      },
      "execution_count": 70,
      "outputs": []
    }
  ]
}